{
 "cells": [
  {
   "cell_type": "code",
   "execution_count": 5,
   "id": "480bf01b",
   "metadata": {},
   "outputs": [],
   "source": [
    "py_file_location = \"...\"\n",
    "os.path.abspath(os.path.join(os.path.dirname(py_file_location), os.path.pardir))\n",
    "\n",
    "import sys\n",
    "import os\n",
    "import numpy as np\n",
    "from functions import *\n",
    "from data_generator import *"
   ]
  },
  {
   "cell_type": "markdown",
   "id": "e301e080",
   "metadata": {},
   "source": [
    "### Channel gain creation\n",
    "\n",
    "First, you can choose the type of channel to perform the simulations. To do this, simply select the type by entering the number of the desired channel type "
   ]
  },
  {
   "cell_type": "code",
   "execution_count": 2,
   "id": "507a84d7",
   "metadata": {},
   "outputs": [
    {
     "name": "stdout",
     "output_type": "stream",
     "text": [
      "\n",
      "        1. Channel gain with gaussian fading [1]\n",
      "        2. Channel gain with Anne model [2]\n",
      "        3. Channel gain with Uniform distribution[3] \n",
      "        4. Channel gain with Rician fading [4]\n",
      "        5. Channel gain with Nakagami fading [5]\n",
      "        6.Exit/Quit\n",
      "        \n",
      "Select channel gain\n",
      "1\n",
      "Channel gain created\n"
     ]
    }
   ],
   "source": [
    "h_PP, h_PR, h_RP, h_SS, h_SR, h_RS, h_SP, h_PS = channel_type() # train data-type"
   ]
  },
  {
   "cell_type": "code",
   "execution_count": 3,
   "id": "d3338aab",
   "metadata": {},
   "outputs": [
    {
     "name": "stdout",
     "output_type": "stream",
     "text": [
      "\n",
      "        1. Channel gain with gaussian fading [1]\n",
      "        2. Channel gain with Anne model [2]\n",
      "        3. Channel gain with Uniform distribution[3] \n",
      "        4. Channel gain with Rician fading [4]\n",
      "        5. Channel gain with Nakagami fading [5]\n",
      "        6.Exit/Quit\n",
      "        \n",
      "Select channel gain\n",
      "1\n",
      "Channel gain created\n"
     ]
    }
   ],
   "source": [
    "t_h_PP, t_h_PR, t_h_RP, t_h_SS, t_h_SR, t_h_RS, t_h_SP, t_h_PS = channel_type() # test data-type"
   ]
  },
  {
   "cell_type": "markdown",
   "id": "49284501",
   "metadata": {},
   "source": [
    "### Dataset\n",
    "Create the dataset and save it on a specific path"
   ]
  },
  {
   "cell_type": "markdown",
   "id": "fa45b17c",
   "metadata": {},
   "source": [
    "1 - data size must be fixed"
   ]
  },
  {
   "cell_type": "code",
   "execution_count": 4,
   "id": "a12fd087",
   "metadata": {},
   "outputs": [],
   "source": [
    "Nbr_train = int(1E6)\n",
    "\n",
    "Nbr_test = int(2E5) "
   ]
  },
  {
   "cell_type": "code",
   "execution_count": null,
   "id": "061d486b",
   "metadata": {},
   "outputs": [],
   "source": [
    "# # choose your directory path  \n",
    "project_sub_path = \"Dataset\"\n",
    "  \n",
    "# Parent Directory path\n",
    "parent_dir = \"\"\n",
    "  \n",
    "# Path\n",
    "try : \n",
    "\n",
    "    path = os.path.join(parent_dir, project_sub_path)\n",
    "    os.mkdir(path)\n",
    "    print(\"Directory '% s' created\" % project_sub_path)\n",
    "except FileExistsError : \n",
    "    pass"
   ]
  },
  {
   "cell_type": "markdown",
   "id": "81452d52",
   "metadata": {},
   "source": [
    "## Save the data"
   ]
  },
  {
   "cell_type": "code",
   "execution_count": null,
   "id": "e3ca85d1",
   "metadata": {},
   "outputs": [],
   "source": [
    "np.savez(os.path.join(parent_dir,project_sub_path,'dataset_train_GF.npz'),\n",
    "         h_PP=h_PP,\n",
    "         h_PS=h_PS,\n",
    "         h_PR=h_PR,\n",
    "         h_SP=h_SP,\n",
    "         h_SS=h_SS,\n",
    "         h_SR=h_SR,\n",
    "         h_RP=h_RP,\n",
    "         h_RS=h_RS\n",
    "         ) \n",
    "\n",
    "print(\"\\n training set generation finished\")"
   ]
  },
  {
   "cell_type": "code",
   "execution_count": null,
   "id": "b3529a48",
   "metadata": {},
   "outputs": [],
   "source": [
    "np.savez(os.path.join(parent_dir,project_sub_path,'dataset_val_GF.npz'),\n",
    "         h_PP=t_h_PP,\n",
    "         h_PS=t_h_PS,\n",
    "         h_PR=t_h_PR,\n",
    "         h_SP=t_h_SP,\n",
    "         h_SS=t_h_SS,\n",
    "         h_SR=t_h_SR,\n",
    "         h_RP=t_h_RP,\n",
    "         h_RS=t_h_RS,\n",
    "         ) \n",
    "\n",
    "print(\"\\n training set generation finished\")"
   ]
  }
 ],
 "metadata": {
  "kernelspec": {
   "display_name": "Python 3 (ipykernel)",
   "language": "python",
   "name": "python3"
  },
  "language_info": {
   "codemirror_mode": {
    "name": "ipython",
    "version": 3
   },
   "file_extension": ".py",
   "mimetype": "text/x-python",
   "name": "python",
   "nbconvert_exporter": "python",
   "pygments_lexer": "ipython3",
   "version": "3.8.10"
  }
 },
 "nbformat": 4,
 "nbformat_minor": 5
}
